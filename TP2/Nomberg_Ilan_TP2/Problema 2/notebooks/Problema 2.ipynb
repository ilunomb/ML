{
 "cells": [
  {
   "cell_type": "code",
   "execution_count": 1,
   "id": "7979d259",
   "metadata": {},
   "outputs": [],
   "source": [
    "%load_ext autoreload\n",
    "%autoreload 2"
   ]
  },
  {
   "cell_type": "code",
   "execution_count": null,
   "id": "5080d852",
   "metadata": {},
   "outputs": [],
   "source": [
    "import pandas as pd\n",
    "import matplotlib.pyplot as plt\n",
    "import numpy as np\n",
    "import os\n",
    "import seaborn as sns\n",
    "import sys\n",
    "from IPython.display import display, Markdown\n",
    "\n",
    "sys.path.append(os.path.abspath(os.path.join('..', 'src')))\n",
    "\n",
    "from utils import plot_pairplot, calculate_stats, correlation_with_target\n",
    "from preprocessing import handle_missing_values, one_hot_encoding, normalize_df\n",
    "from data_splitting import train_validate_split\n",
    "from models import LogisticRegression\n",
    "from metrics import plot_conf_matrix, accuracy, precision, recall, f1_score, plot_pr_curve, plot_roc_curve\n",
    "from balancing import undersampling, oversampling, smote\n",
    "\n",
    "RANDOM_STATE = 42\n",
    "\n",
    "# Load the dataset\n",
    "WAR_class_dev = pd.read_csv('../data/raw/WAR_class_dev.csv')\n",
    "\n",
    "WAR_class_dev.head()"
   ]
  }
 ],
 "metadata": {
  "kernelspec": {
   "display_name": "Python 3",
   "language": "python",
   "name": "python3"
  },
  "language_info": {
   "codemirror_mode": {
    "name": "ipython",
    "version": 3
   },
   "file_extension": ".py",
   "mimetype": "text/x-python",
   "name": "python",
   "nbconvert_exporter": "python",
   "pygments_lexer": "ipython3",
   "version": "3.11.9"
  }
 },
 "nbformat": 4,
 "nbformat_minor": 5
}
